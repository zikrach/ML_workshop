{
 "cells": [
  {
   "cell_type": "markdown",
   "metadata": {},
   "source": [
    "<h1 align=\"center\"> Smart Decisions: </h1> \n",
    "<h2 align=\"center\"> Game Scenario – Machine Learning</h2> "
   ]
  },
  {
   "cell_type": "markdown",
   "metadata": {},
   "source": [
    "<p class=MsoNormal>You are a machine learning expert who is designing an important Machine\n",
    "Learning system which relies on the collection of a Telecommunication Company data. The customer is desired to prevent  of the customers churn via determination the customers under Risk and the corresponding marketing solutions development.</p>\n",
    "\n",
    "<p class=MsoNormal><img width=600 src=\"img/Customer-Retention.jpg\"></p>\n",
    "\n",
    "<p class=MsoNormal>Customer churn refers to when a customer ceases their relationship with a company. The full cost of customer churn includes both lost revenue and the marketing costs involved with replacing those customers with new ones. The main issue in this case - is the absence of the well-known dependencies, that may be taken into account in order to asses the probability of churn's Risk. The only way to define these factos - extract them form the Company Data.  As a result, Churn Risk prediction systems based on Machine\n",
    "Learning algorithms are essential and widely used by companies from the different domains.</p>\n",
    "\n",
    "<p class=MsoNormal>The company’s executive management realizes that there is a new\n",
    "revenue generation opportunity to leverage the latest Machine Learning\n",
    "algorithms and is ready to invest in building a new “churn prediction” system.</p>\n",
    "\n",
    "<p class=MsoNormal>At this point, the project’s main requirements have been established,\n",
    "the budget has been approved and you, as a seasoned machine leraning expert, are called upon\n",
    "to design this ambitious new system. </p>\n"
   ]
  },
  {
   "cell_type": "markdown",
   "metadata": {},
   "source": [
    "Your first goal is to analyze project requirements, select the best matching candidate algorithms, and validate early design decisions using rapid prototyping techniques.\n",
    "\n",
    "\n",
    "The significant architecture drivers for the system are the following:\n",
    "\n",
    "<table class=a border=1 cellspacing=0 cellpadding=0 width=600 style='border-collapse:\n",
    " collapse;mso-table-layout-alt:fixed;border:none;mso-border-alt:solid black 1.0pt;\n",
    " mso-yfti-tbllook:1536;mso-padding-alt:0cm 5.4pt 0cm 5.4pt;mso-border-insideh:\n",
    " 1.0pt solid black;mso-border-insidev:1.0pt solid black'>\n",
    " <tr style='mso-yfti-irow:0;mso-yfti-firstrow:yes'>\n",
    "  <td width=200 valign=top style='width:200.0pt;border:solid black 1.0pt;\n",
    "  background:#CCCCCC;padding:5.0pt 5.0pt 5.0pt 5.0pt'>\n",
    "  <p class=MsoNormal style='line-height:normal'><b style='mso-bidi-font-weight:\n",
    "  normal'>Use case name</b></p>\n",
    "  </td>\n",
    "  <td width=400 valign=top style='width:400.0pt;border:solid black 1.0pt;\n",
    "  border-left:none;mso-border-left-alt:solid black 1.0pt;background:#CCCCCC;\n",
    "  padding:5.0pt 5.0pt 5.0pt 5.0pt'>\n",
    "  <p class=MsoNormal style='line-height:normal'><b style='mso-bidi-font-weight:\n",
    "  normal'>Description</b></p>\n",
    "  </td>\n",
    " </tr>\n",
    " <tr style='mso-yfti-irow:1'>\n",
    "  <td width=200 valign=top style='width:200.0pt;border:solid black 1.0pt;\n",
    "  border-top:none;mso-border-top-alt:solid black 1.0pt;padding:5.0pt 5.0pt 5.0pt 5.0pt'>\n",
    "  <p class=MsoNormal style='line-height:normal'>UC-1: Show Customers in Risk Zone</p>\n",
    "  </td>\n",
    "  <td width=400 valign=top style='width:400.0pt;border-top:none;border-left:\n",
    "  none;border-bottom:solid black 1.0pt;border-right:solid black 1.0pt;\n",
    "  mso-border-top-alt:solid black 1.0pt;mso-border-left-alt:solid black 1.0pt;\n",
    "  padding:5.0pt 5.0pt 5.0pt 5.0pt'>\n",
    "  <p class=MsoNormal style='line-height:normal'>Predict the likelihood\n",
    "  that a given customer will not be interesed in the provided service</p>\n",
    "  </td>\n",
    " </tr>\n",
    " <tr style='mso-yfti-irow:2;mso-yfti-lastrow:yes'>\n",
    "  <td width=200 valign=top style='width:200.0pt;border:solid black 1.0pt;\n",
    "  border-top:none;mso-border-top-alt:solid black 1.0pt;padding:5.0pt 5.0pt 5.0pt 5.0pt'>\n",
    "  <p class=MsoNormal style='line-height:normal'>UC-2: Customer Churn Drivers</p>\n",
    "  </td>\n",
    "  <td width=400 valign=top style='width:400.0pt;border-top:none;border-left:\n",
    "  none;border-bottom:solid black 1.0pt;border-right:solid black 1.0pt;\n",
    "  mso-border-top-alt:solid black 1.0pt;mso-border-left-alt:solid black 1.0pt;\n",
    "  padding:5.0pt 5.0pt 5.0pt 5.0pt'>\n",
    "  <p class=MsoNormal style='line-height:normal'>Show the most important factors that define Customers under the Churn Risk</p>\n",
    "  </td>\n",
    " </tr>\n",
    "</table>\n",
    "\n",
    "<table class=a border=1 cellspacing=0 cellpadding=0 width=600 style='border-collapse:\n",
    " collapse;mso-table-layout-alt:fixed;border:none;mso-border-alt:solid black 1.0pt;\n",
    " mso-yfti-tbllook:1536;mso-padding-alt:0cm 5.4pt 0cm 5.4pt;mso-border-insideh:\n",
    " 1.0pt solid black;mso-border-insidev:1.0pt solid black'>\n",
    " <tr style='mso-yfti-irow:0;mso-yfti-firstrow:yes'>\n",
    "  <td width=200 valign=top style='width:200.0pt;border:solid black 1.0pt;\n",
    "  background:#CCCCCC;padding:5.0pt 5.0pt 5.0pt 5.0pt'>\n",
    "  <p class=MsoNormal style='line-height:normal'><b style='mso-bidi-font-weight:\n",
    "  normal'>Quality attributes</b></p>\n",
    "  </td>\n",
    "  <td width=400 valign=top style='width:400.0pt;border:solid black 1.0pt;\n",
    "  border-left:none;mso-border-left-alt:solid black 1.0pt;background:#CCCCCC;\n",
    "  padding:5.0pt 5.0pt 5.0pt 5.0pt'>\n",
    "  <p class=MsoNormal style='line-height:normal'><b style='mso-bidi-font-weight:\n",
    "  normal'>Description</b></p>\n",
    "  </td>\n",
    " </tr>\n",
    " <tr style='mso-yfti-irow:1'>\n",
    "  <td width=200 valign=top style='width:200.0pt;border:solid black 1.0pt;\n",
    "  border-top:none;mso-border-top-alt:solid black 1.0pt;padding:5.0pt 5.0pt 5.0pt 5.0pt'>\n",
    "  <p class=MsoNormal style='line-height:normal'>Accuracy</p>\n",
    "  </td>\n",
    "  <td width=400 valign=top style='width:400.0pt;border-top:none;border-left:\n",
    "  none;border-bottom:solid black 1.0pt;border-right:solid black 1.0pt;\n",
    "  mso-border-top-alt:solid black 1.0pt;mso-border-left-alt:solid black 1.0pt;\n",
    "  padding:5.0pt 5.0pt 5.0pt 5.0pt'>\n",
    "  <p class=MsoNormal style='line-height:normal'>The accuracy rate of the\n",
    "  algorithm must as higher as can, but not less than 75%</p>\n",
    "  </td>\n",
    " </tr>\n",
    " <tr style='mso-yfti-irow:2'>\n",
    "  <td width=200 valign=top style='width:200.0pt;border:solid black 1.0pt;\n",
    "  border-top:none;mso-border-top-alt:solid black 1.0pt;padding:5.0pt 5.0pt 5.0pt 5.0pt'>\n",
    "  <p class=MsoNormal style='line-height:normal'>Data Volume</p>\n",
    "  </td>\n",
    "  <td width=400 valign=top style='width:400.0pt;border-top:none;border-left:\n",
    "  none;border-bottom:solid black 1.0pt;border-right:solid black 1.0pt;\n",
    "  mso-border-top-alt:solid black 1.0pt;mso-border-left-alt:solid black 1.0pt;\n",
    "  padding:5.0pt 5.0pt 5.0pt 5.0pt'>\n",
    "  <p class=MsoNormal style='line-height:normal'>The selected algorithm should\n",
    "  be applicable both to the small and big datasets</p>\n",
    "  </td>\n",
    " </tr>\n",
    " <tr style='mso-yfti-irow:3'>\n",
    "  <td width=200 valign=top style='width:200.0pt;border:solid black 1.0pt;\n",
    "  border-top:none;mso-border-top-alt:solid black 1.0pt;padding:5.0pt 5.0pt 5.0pt 5.0pt'>\n",
    "  <p class=MsoNormal style='line-height:normal'>Inbalanced Data</p>\n",
    "  </td>\n",
    "  <td width=400 valign=top style='width:400.0pt;border-top:none;border-left:\n",
    "  none;border-bottom:solid black 1.0pt;border-right:solid black 1.0pt;\n",
    "  mso-border-top-alt:solid black 1.0pt;mso-border-left-alt:solid black 1.0pt;\n",
    "  padding:5.0pt 5.0pt 5.0pt 5.0pt'>\n",
    "  <p class=MsoNormal style='line-height:normal'>Algorithm should work well with inbalanced datasets</p>\n",
    "  </td>\n",
    " </tr>\n",
    " <tr style='mso-yfti-irow:4'>\n",
    "  <td width=200 valign=top style='width:200.0pt;border:solid black 1.0pt;\n",
    "  border-top:none;mso-border-top-alt:solid black 1.0pt;padding:5.0pt 5.0pt 5.0pt 5.0pt'>\n",
    "  <p class=MsoNormal style='line-height:normal'>Results Interpretation</p>\n",
    "  </td>\n",
    "  <td width=400 valign=top style='width:400.0pt;border-top:none;border-left:\n",
    "  none;border-bottom:solid black 1.0pt;border-right:solid black 1.0pt;\n",
    "  mso-border-top-alt:solid black 1.0pt;mso-border-left-alt:solid black 1.0pt;\n",
    "  padding:5.0pt 5.0pt 5.0pt 5.0pt'>\n",
    "  <p class=MsoNormal style='line-height:normal'>Client will require the interpretation of the models results, including the risk probability</p>\n",
    "  </td>\n",
    " </tr>\n",
    " <tr style='mso-yfti-irow:5;mso-yfti-lastrow:yes'>\n",
    "  <td width=200 valign=top style='width:200.0pt;border:solid black 1.0pt;\n",
    "  border-top:none;mso-border-top-alt:solid black 1.0pt;padding:5.0pt 5.0pt 5.0pt 5.0pt'>\n",
    "  <p class=MsoNormal style='line-height:normal'>Ease of Use</p>\n",
    "  </td>\n",
    "  <td width=400 valign=top style='width:400.0pt;border-top:none;border-left:\n",
    "  none;border-bottom:solid black 1.0pt;border-right:solid black 1.0pt;\n",
    "  mso-border-top-alt:solid black 1.0pt;mso-border-left-alt:solid black 1.0pt;\n",
    "  padding:5.0pt 5.0pt 5.0pt 5.0pt'>\n",
    "  <p class=MsoNormal style='line-height:normal'>Algorithm tuning should be\n",
    "  user-friendly, preferring algorithms with fewer hyper parameters</p>\n",
    "  </td>\n",
    " </tr>\n",
    "</table>\n",
    "<br>\n",
    "<br>\n",
    "<p class=MsoNormal>General workflow is represented in the folowing diagram:</p>\n",
    "\n",
    "<p class=MsoNormal><img width=600 src=\"img/Diagram.jpg\"></p>\n",
    "<br>\n",
    "<br>"
   ]
  },
  {
   "cell_type": "markdown",
   "metadata": {},
   "source": [
    "# 1. Prepare Python Environment"
   ]
  },
  {
   "cell_type": "code",
   "execution_count": null,
   "metadata": {},
   "outputs": [],
   "source": [
    "from ml_workshop_dsg.workshop import *\n",
    "\n",
    "%matplotlib inline\n",
    "plt.style.use('bmh')\n",
    "\n",
    "seed = 0\n",
    "np.random.seed(seed)\n",
    "random.seed(seed)"
   ]
  },
  {
   "cell_type": "markdown",
   "metadata": {},
   "source": [
    "# 2. Load and Preprocess Data"
   ]
  },
  {
   "cell_type": "markdown",
   "metadata": {},
   "source": [
    "### The data set includes information about:\n",
    "1. Customers who left within the last month – the column is called Churn\n",
    "2. Services that each customer has signed up for – phone, multiple lines, internet, online security, online backup, device protection, tech support, and streaming TV and movies\n",
    "3. Customer account information – how long they’ve been a customer, contract, payment method, paperless billing, monthly charges, and total charges\n",
    "4. Demographic info about customers – gender, age range, and if they have partners and dependents"
   ]
  },
  {
   "cell_type": "code",
   "execution_count": null,
   "metadata": {},
   "outputs": [],
   "source": [
    "data=pd.read_csv(\"data/WA_Fn-UseC_-Telco-Customer-Churn.csv\", sep=',', decimal='.', na_values=' ', \n",
    "                 na_filter=True, index_col='customerID')\n",
    "\n",
    "data.head()"
   ]
  },
  {
   "cell_type": "code",
   "execution_count": null,
   "metadata": {},
   "outputs": [],
   "source": [
    "data['SeniorCitizen'] = data.SeniorCitizen.astype(str) "
   ]
  },
  {
   "cell_type": "code",
   "execution_count": null,
   "metadata": {},
   "outputs": [],
   "source": [
    "data.info()"
   ]
  },
  {
   "cell_type": "markdown",
   "metadata": {},
   "source": [
    "This method prints information about a DataFrame including the index dtype and column dtypes, non-null values and memory usage. We have 20 columns (2 with type int64, 2 with type float64, and 16 with type object) and only TotalCharges column has null values."
   ]
  },
  {
   "cell_type": "code",
   "execution_count": null,
   "metadata": {},
   "outputs": [],
   "source": [
    "data.dtypes.value_counts().plot(kind='bar', figsize=(20,10))\n",
    "plt.show()"
   ]
  },
  {
   "cell_type": "markdown",
   "metadata": {},
   "source": [
    "## Target variable"
   ]
  },
  {
   "cell_type": "code",
   "execution_count": null,
   "metadata": {},
   "outputs": [],
   "source": [
    "pd.crosstab(data['Churn'], 'Churn').plot(kind='bar', figsize=(20,10))\n",
    "plt.show()"
   ]
  },
  {
   "cell_type": "markdown",
   "metadata": {},
   "source": [
    "We have target variable with 2 unique values \"No\" and \"Yes\" and count of No's more than Yes's  in 2.5 times. Actually, we can make a conclusion, that we have imbalanced classes."
   ]
  },
  {
   "cell_type": "markdown",
   "metadata": {},
   "source": [
    "# Data Preprocessing\n",
    "\n",
    "1. Data Cleaning\n",
    "2. Fill NA\n",
    "3. Categorical predictors preprocessing\n",
    "4. Scale numerical features\n",
    "5. Drop high correlated features"
   ]
  },
  {
   "cell_type": "code",
   "execution_count": null,
   "metadata": {},
   "outputs": [],
   "source": [
    "data_preprocess, target = data_preprocessing(data)\n",
    "data_preprocess.shape"
   ]
  },
  {
   "cell_type": "code",
   "execution_count": null,
   "metadata": {},
   "outputs": [],
   "source": [
    "data_preprocess.head()"
   ]
  },
  {
   "cell_type": "code",
   "execution_count": null,
   "metadata": {},
   "outputs": [],
   "source": [
    "data_preprocess.describe()"
   ]
  },
  {
   "cell_type": "markdown",
   "metadata": {},
   "source": [
    "# 3. Test Your Algorithm"
   ]
  },
  {
   "cell_type": "markdown",
   "metadata": {},
   "source": [
    "**Supported Algorithms:**\n",
    "\n",
    "1. Classification:\n",
    "    * Decision Tree - DecisionTreeClassifier\n",
    "    * Random Forest - RandomForestClassifier\n",
    "    * Linear - LinearSVC \n",
    "    * non-Linear SVMs - SVC\n",
    "    * Logistic Regression - LogisticRegression\n",
    "    * Bayesian Naive Classifier - GaussianNB\n",
    "    * k-Nearest Neighbors - KNeighborsClassifier\n",
    "    <!---* Radius Neighbors - RadiusNeighborsClassifier--->\n",
    "    * Multi-Layer Perceptron - MLPClassifier\n",
    "2. Regression:\n",
    "    * Decision Tree - DecisionTreeRegressor\n",
    "    * Random Forest - RandomForestRegressor\n",
    "    * Linear - LinearSVR\n",
    "    * non-Linear SVMs - SVR\n",
    "    * Linear Regression - LinearRegression\n",
    "    * k-Nearest Neighbors - KNeighborsRegressor\n",
    "    <!---* Radius Neighbors - RadiusNeighborsRegressor--->\n",
    "    * Multi-Layer Perceptron - MLPRegressor\n",
    "3. Clustering:\n",
    "    * Hierarchical clustering - AgglomerativeClustering\n",
    "    * K-Means - KMeans\n",
    "    * DBScan - DBSCAN\n",
    "4. Anomaly Detection:\n",
    "    * One-Class SVM - OneClassSVM\n",
    "    * IForest - IsolationForest"
   ]
  },
  {
   "cell_type": "markdown",
   "metadata": {},
   "source": [
    "#### 1. Type the name of the algorithm class from the list above"
   ]
  },
  {
   "cell_type": "code",
   "execution_count": null,
   "metadata": {},
   "outputs": [],
   "source": [
    "algs = [\n",
    "#         LinearSVC, \n",
    "#         SVC, \n",
    "#         DecisionTreeClassifier, \n",
    "#         RandomForestClassifier, \n",
    "#         GaussianNB, \n",
    "#         LogisticRegression, \n",
    "#         KNeighborsClassifier, \n",
    "#         #RadiusNeighborsClassifier, \n",
    "#         MLPClassifier\n",
    "       ]"
   ]
  },
  {
   "cell_type": "markdown",
   "metadata": {},
   "source": [
    "#### 2. Run all algorithms from list"
   ]
  },
  {
   "cell_type": "code",
   "execution_count": null,
   "metadata": {},
   "outputs": [],
   "source": [
    "_,_, models = fit_model(algs, data_preprocess, target, seed)"
   ]
  },
  {
   "cell_type": "markdown",
   "metadata": {},
   "source": [
    "#### 3. See results"
   ]
  },
  {
   "cell_type": "code",
   "execution_count": null,
   "metadata": {},
   "outputs": [],
   "source": [
    "models.sort_values(by='TEST_F1', \n",
    "                   ascending=False)[['MODEL', 'TEST_ACC', 'TEST_AUC', 'TEST_F1',\n",
    "                                                          'TEST_PRES', 'TRAINING_TIME']]"
   ]
  },
  {
   "cell_type": "markdown",
   "metadata": {},
   "source": [
    "# 4. Tune Your Algorithm"
   ]
  },
  {
   "cell_type": "markdown",
   "metadata": {},
   "source": [
    "#### 1. Define grip of parameters for each algorithm"
   ]
  },
  {
   "cell_type": "code",
   "execution_count": null,
   "metadata": {},
   "outputs": [],
   "source": [
    "search_space = {\n",
    "  'LinearSVC': [{'random_state': [seed]}, {\n",
    "    'random_state': [seed],\n",
    "    'C':  np.concatenate([np.logspace(-3, -1, 3), np.arange(0.5, 10, .5)]),\n",
    "  }],\n",
    "  'SVC': [{'random_state': [seed]}, {\n",
    "    'random_state': [seed],\n",
    "    'probability': [True],\n",
    "    \"kernel\": ['rbf'],\n",
    "    'C': np.concatenate([np.arange(0.1, 0.5, 0.1), np.arange(0.5, 3, 0.5)]),\n",
    "    'gamma': np.logspace(-3, -1, 3)\n",
    "  }],\n",
    "  'DecisionTreeClassifier': [{'random_state': [seed]}, {\n",
    "    'random_state': [seed],\n",
    "    'max_features': ['sqrt', 'log2', None],\n",
    "    \"max_depth\": [10, 50, 100, 200, None]\n",
    "  }],\n",
    "  'RandomForestClassifier': [{'random_state': [seed]}, {\n",
    "    'random_state': [seed],\n",
    "    'n_estimators': [100, 300, 500, 700],\n",
    "    'max_features': ['sqrt', 'log2', None],\n",
    "    \"max_depth\": [10, 50, 100, 200, None]\n",
    "  }],\n",
    "  'GaussianNB': {},\n",
    "  'LogisticRegression': [{'random_state': [seed]}, {\n",
    "    'random_state': [seed],\n",
    "    'C': np.concatenate([np.logspace(-3, -1, 3), np.arange(0.5, 10, .5)])\n",
    "  }],\n",
    "  'KNeighborsClassifier': [{}, {\n",
    "    'n_neighbors': [2, 3, 4, 5, 7, 10],\n",
    "    'weights': ['uniform', 'distance'],\n",
    "  }],\n",
    "  'RadiusNeighborsClassifier': [{}, {\n",
    "    'radius': np.arange(0.1, 1.5, 0.1),\n",
    "    'weights': ['uniform', 'distance'],\n",
    "  }],\n",
    "  'MLPClassifier': [{'random_state': [seed]}, {\n",
    "    'random_state': [seed],\n",
    "    'activation': ['logistic', 'relu'],\n",
    "    'hidden_layer_sizes': [(50,), (100,), (300,), (50, 50), (100, 100), (300, 300)],\n",
    "    'max_iter': [500],\n",
    "    'early_stopping': [True]\n",
    "  }]\n",
    "}"
   ]
  },
  {
   "cell_type": "markdown",
   "metadata": {},
   "source": [
    "#### 2. Type the name of the algorithm class from the list above"
   ]
  },
  {
   "cell_type": "code",
   "execution_count": null,
   "metadata": {},
   "outputs": [],
   "source": [
    "algs_tune = [\n",
    "#         LinearSVC, \n",
    "#         SVC, \n",
    "#         DecisionTreeClassifier, \n",
    "#         RandomForestClassifier, \n",
    "#         GaussianNB, \n",
    "#         LogisticRegression, \n",
    "#         KNeighborsClassifier, \n",
    "#         #RadiusNeighborsClassifier, \n",
    "#         MLPClassifier\n",
    "       ]"
   ]
  },
  {
   "cell_type": "markdown",
   "metadata": {},
   "source": [
    "#### 2. Run tuning of all algorithms from list"
   ]
  },
  {
   "cell_type": "code",
   "execution_count": null,
   "metadata": {},
   "outputs": [],
   "source": [
    "X_train, X_test, models_all, best_models = fit_model_tune(algs_tune, data_preprocess, target, search_space, models)"
   ]
  },
  {
   "cell_type": "markdown",
   "metadata": {},
   "source": [
    "#### 3. See results"
   ]
  },
  {
   "cell_type": "code",
   "execution_count": null,
   "metadata": {},
   "outputs": [],
   "source": [
    "models_all.sort_values(by='TEST_F1', \n",
    "                   ascending=False)[['MODEL', 'TEST_ACC', 'TEST_AUC', 'TEST_F1',\n",
    "                                                          'TEST_PRES', 'TRAINING_TIME']]"
   ]
  },
  {
   "cell_type": "code",
   "execution_count": null,
   "metadata": {},
   "outputs": [],
   "source": [
    "best_models"
   ]
  },
  {
   "cell_type": "code",
   "execution_count": null,
   "metadata": {},
   "outputs": [],
   "source": []
  },
  {
   "cell_type": "markdown",
   "metadata": {
    "collapsed": true
   },
   "source": [
    "# Drivers Visualization"
   ]
  },
  {
   "cell_type": "markdown",
   "metadata": {},
   "source": [
    "## Histogram"
   ]
  },
  {
   "cell_type": "markdown",
   "metadata": {},
   "source": [
    "<p class=MsoNormal><img width=300 src=\"img/histogram-1.png\"></p>\n",
    "\n",
    "<p>In a histogram, it is the area of the bar that indicates the frequency of occurrences for each bin. This means that the height of the bar does not necessarily indicate how many occurrences of scores there were within each individual bin. It is the product of height multiplied by the width of the bin that indicates the frequency of occurrences within that bin. One of the reasons that the height of the bars is often incorrectly assessed as indicating frequency and not the area of the bar is due to the fact that a lot of histograms often have equally spaced bars (bins), and under these circumstances, the height of the bin does reflect the frequency.</p>"
   ]
  },
  {
   "cell_type": "markdown",
   "metadata": {},
   "source": [
    "## BoxPlot"
   ]
  },
  {
   "cell_type": "markdown",
   "metadata": {},
   "source": [
    "<p class=MsoNormal><img width=600 src=\"img/W@S-different-boxplots.png\"></p>\n",
    "\n",
    "<h3>\n",
    "\tSome general observations about box plots</h3>\n",
    "<ul>\n",
    "<li>\n",
    "\t\t<strong>The box plot is comparatively short&nbsp;</strong>&ndash; see example (2). This suggests that overall students have a high level of agreement with each other.&nbsp;</li>\n",
    "<li>\n",
    "\t\t<strong>The box plot is comparatively tall&nbsp;</strong>&ndash; see examples (1) and (3). This suggests students hold quite different opinions about this aspect or sub-aspect.&nbsp;</li>\n",
    "<li>\n",
    "\t\t<strong>One box plot is much higher or lower than another&nbsp;</strong>&ndash; compare (3) and (4) &ndash; This could suggest a difference between groups. For example, the box plot for boys may be lower or higher than the equivalent plot for girls. Follow this up by looking at the <em>Items at a Glance</em>&nbsp;reports.</li>\n",
    "<li>\n",
    "\t\t<strong>Obvious differences between box plots&nbsp;</strong>&ndash; see examples (1) and (2), (1) and (3), or (2) and (4). Any obvious difference between box plots for comparative groups is worthy of further investigation in the <em>Items at a Glance</em> reports.&nbsp;</li>\n",
    "<li>\n",
    "\t\tYour school box plot is much higher or lower than the national reference group box plot. This also suggests an area of difference that could be explored further in the&nbsp;<em>Items in Detail</em>&nbsp;reports and through consultation.</li>\n",
    "<li>\n",
    "\t\t<strong>The 4 sections of the box plot are uneven in size</strong>&nbsp;&ndash; See example (1). This shows that many students have similar views at certain parts of the scale, but in other parts of the scale students are more variable in their views. The long upper whisker in the example means that students views are varied amongst the most positive quartile group, and very similar for the least positive quartile group. The&nbsp;<em>Items in Detail</em>&nbsp;reports can be used to explore this further.</li>\n",
    "<li>\n",
    "\t\t<strong>Same median, different distribution</strong>&nbsp;&ndash; See examples (1), (2), and (3). The medians (which generally will be close to the average) are all at the same level. However the box plots in these examples show very different distributions of views.<br />\n",
    "\t\tIt always important to consider the pattern of the whole distribution of responses in a box plot.&nbsp;</li>\n",
    "</ul>"
   ]
  },
  {
   "cell_type": "code",
   "execution_count": null,
   "metadata": {
    "scrolled": false
   },
   "outputs": [],
   "source": [
    "visualization(data, best_models, 'KNeighborsClassifier', X_test)"
   ]
  },
  {
   "cell_type": "code",
   "execution_count": null,
   "metadata": {},
   "outputs": [],
   "source": []
  }
 ],
 "metadata": {
  "kernelspec": {
   "display_name": "Python 3",
   "language": "python",
   "name": "python3"
  },
  "language_info": {
   "codemirror_mode": {
    "name": "ipython",
    "version": 3
   },
   "file_extension": ".py",
   "mimetype": "text/x-python",
   "name": "python",
   "nbconvert_exporter": "python",
   "pygments_lexer": "ipython3",
   "version": "3.6.4"
  }
 },
 "nbformat": 4,
 "nbformat_minor": 2
}
